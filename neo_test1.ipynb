{
 "cells": [
  {
   "cell_type": "code",
   "execution_count": 3,
   "id": "35da9670",
   "metadata": {},
   "outputs": [],
   "source": [
    "import numpy as np\n",
    "import pandas as pd\n",
    "\n",
    "from neo4j import GraphDatabase"
   ]
  },
  {
   "cell_type": "code",
   "execution_count": 5,
   "id": "b60b6abe",
   "metadata": {},
   "outputs": [],
   "source": [
    "import random\n",
    "\n",
    "transaction_id = [i for i in range(1,50001)]\n",
    "vendor_number = np.random.randint(low=1, high=2500, size=(50000,))\n",
    "\n",
    "transaction_amount = np.random.randint(low=20, high=12500000, size=(50000))\n",
    "\n",
    "transaction_types = ['cash_withdrawal', 'cash_deposit', 'transfer_domestic', 'transfer_international']\n",
    "\n",
    "random_integers = [random.randint(0,3) for i in range(0,50000)]\n",
    "transaction_list = [transaction_types[i] for i in random_integers]\n",
    "\n",
    "transaction_data = {'transaction_id': transaction_id,\n",
    "                    'vendor_number': list(vendor_number),\n",
    "                   'transaction_amount': list(transaction_amount),\n",
    "                   'transaction_type': transaction_list,}\n",
    "\n",
    "transaction_DataFrame = pd.DataFrame(transaction_data)"
   ]
  },
  {
   "cell_type": "code",
   "execution_count": 7,
   "id": "d831e7db",
   "metadata": {},
   "outputs": [],
   "source": [
    "transaction_list = transaction_DataFrame.values.tolist()\n",
    "\n",
    "transaction_execution_commands = []\n",
    "\n",
    "for i in transaction_list:\n",
    "    neo4j_create_statement = 'create (t:Transaction {transaction_id:' + str(i[0]) + ', vendor_number: '+ str(i[1]) +'})'\n",
    "    transaction_execution_commands.append(neo4j_create_statement)"
   ]
  },
  {
   "cell_type": "code",
   "execution_count": 13,
   "id": "44758945",
   "metadata": {},
   "outputs": [],
   "source": [
    "def execute_transactions(transaction_execution_commands):\n",
    "    data_base_connection = GraphDatabase.driver(uri='bolt://localhost:7687', auth=('neo4j', 'test'))\n",
    "    session = data_base_connection.session()\n",
    "    for i in transaction_execution_commands:\n",
    "        session.run(i)\n"
   ]
  },
  {
   "cell_type": "code",
   "execution_count": 14,
   "id": "9f154c97",
   "metadata": {},
   "outputs": [],
   "source": [
    "# print(transaction_execution_commands[:4])\n",
    "execute_transactions(transaction_execution_commands)"
   ]
  }
 ],
 "metadata": {
  "kernelspec": {
   "display_name": "Python 3 (ipykernel)",
   "language": "python",
   "name": "python3"
  },
  "language_info": {
   "codemirror_mode": {
    "name": "ipython",
    "version": 3
   },
   "file_extension": ".py",
   "mimetype": "text/x-python",
   "name": "python",
   "nbconvert_exporter": "python",
   "pygments_lexer": "ipython3",
   "version": "3.8.12"
  }
 },
 "nbformat": 4,
 "nbformat_minor": 5
}
