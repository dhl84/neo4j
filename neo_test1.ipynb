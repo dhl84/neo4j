{
 "cells": [
  {
   "cell_type": "code",
   "execution_count": 1,
   "id": "bcf88bf9",
   "metadata": {},
   "outputs": [],
   "source": [
    "import numpy as np\n",
    "import pandas as pd\n",
    "\n",
    "import re\n",
    "\n",
    "from neo4j import GraphDatabase\n",
    "from py2neo import Graph"
   ]
  },
  {
   "cell_type": "markdown",
   "id": "6ee271c7",
   "metadata": {},
   "source": [
    "todoremove: test code to create random nodes"
   ]
  },
  {
   "cell_type": "code",
   "execution_count": 2,
   "id": "8f6c36f2",
   "metadata": {},
   "outputs": [],
   "source": [
    "# import random\n",
    "\n",
    "# transaction_id = [i for i in range(1,50001)]\n",
    "# vendor_number = np.random.randint(low=1, high=2500, size=(50000,))\n",
    "\n",
    "# transaction_amount = np.random.randint(low=20, high=12500000, size=(50000))\n",
    "\n",
    "# transaction_types = ['cash_withdrawal', 'cash_deposit', 'transfer_domestic', 'transfer_international']\n",
    "\n",
    "# random_integers = [random.randint(0,3) for i in range(0,50000)]\n",
    "# transaction_list = [transaction_types[i] for i in random_integers]\n",
    "\n",
    "# transaction_data = {'transaction_id': transaction_id,\n",
    "#                     'vendor_number': list(vendor_number),\n",
    "#                    'transaction_amount': list(transaction_amount),\n",
    "#                    'transaction_type': transaction_list,}\n",
    "\n",
    "# transaction_DataFrame = pd.DataFrame(transaction_data)"
   ]
  },
  {
   "cell_type": "code",
   "execution_count": 3,
   "id": "8147b90b",
   "metadata": {},
   "outputs": [],
   "source": [
    "# transaction_list = transaction_DataFrame.values.tolist()\n",
    "\n",
    "# transaction_execution_commands = []\n",
    "\n",
    "# for i in transaction_list:\n",
    "#     neo4j_create_statement = 'create (t:Transaction {transaction_id:' + str(i[0]) + ', vendor_number: '+ str(i[1]) +'})'\n",
    "#     transaction_execution_commands.append(neo4j_create_statement)"
   ]
  },
  {
   "cell_type": "markdown",
   "id": "e0e4a419",
   "metadata": {},
   "source": [
    "Connection to local Neo4j server"
   ]
  },
  {
   "cell_type": "code",
   "execution_count": 4,
   "id": "9c955df5",
   "metadata": {},
   "outputs": [],
   "source": [
    "data_base_connection = GraphDatabase.driver(uri='bolt://localhost:7687', auth=('neo4j', 'test'))\n",
    "session = data_base_connection.session()"
   ]
  },
  {
   "cell_type": "markdown",
   "id": "aac3a87f",
   "metadata": {},
   "source": [
    "Helper function to batch execute Cypher queries"
   ]
  },
  {
   "cell_type": "code",
   "execution_count": 5,
   "id": "4a67ebd9",
   "metadata": {},
   "outputs": [],
   "source": [
    "def execute_transactions(transaction_execution_commands):\n",
    "    data_base_connection = GraphDatabase.driver(uri='bolt://localhost:7687', auth=('neo4j', 'test'))\n",
    "    session = data_base_connection.session()\n",
    "    for i in transaction_execution_commands:\n",
    "        session.run(i)\n",
    "\n",
    "# execute_transactions(transaction_execution_commands)"
   ]
  },
  {
   "cell_type": "markdown",
   "id": "da7b0286",
   "metadata": {},
   "source": [
    "Read nodes & edges sample files"
   ]
  },
  {
   "cell_type": "code",
   "execution_count": 6,
   "id": "6564812f",
   "metadata": {},
   "outputs": [],
   "source": [
    "fname_in_nodes = 'Nodes Lineage Sample.csv'\n",
    "fname_in_edges = 'Edges Lineage Sample.csv'\n",
    "\n",
    "in_nodes = pd.read_csv(fname_in_nodes)\n",
    "in_edges = pd.read_csv(fname_in_edges)\n"
   ]
  },
  {
   "cell_type": "markdown",
   "id": "393c2a43",
   "metadata": {},
   "source": [
    "pandas profiling EDA on nodes & edges"
   ]
  },
  {
   "cell_type": "code",
   "execution_count": 7,
   "id": "2f87319f",
   "metadata": {},
   "outputs": [],
   "source": [
    "# from pandas_profiling import ProfileReport\n",
    "\n",
    "# profile_nodes = ProfileReport(in_nodes, title=\"Nodes Report\")\n",
    "# profile_nodes\n",
    "\n",
    "# profile_edges = ProfileReport(in_edges, title=\"Edges Report\")\n",
    "# profile_edges"
   ]
  },
  {
   "cell_type": "markdown",
   "id": "270e783c",
   "metadata": {},
   "source": [
    "todo: replace fillna - required for creating cypher code to build nodes"
   ]
  },
  {
   "cell_type": "markdown",
   "id": "570e138e",
   "metadata": {},
   "source": [
    "# Nodes"
   ]
  },
  {
   "cell_type": "markdown",
   "id": "b2c9ad6a",
   "metadata": {},
   "source": [
    "Fill na (only present in Description field)"
   ]
  },
  {
   "cell_type": "code",
   "execution_count": 8,
   "id": "120cb4fe",
   "metadata": {},
   "outputs": [],
   "source": [
    "df_nodes = in_nodes.drop_duplicates().fillna('na')"
   ]
  },
  {
   "cell_type": "markdown",
   "id": "dfa80688",
   "metadata": {},
   "source": [
    "Automatically create code for node dataframes"
   ]
  },
  {
   "cell_type": "code",
   "execution_count": 9,
   "id": "bfc7bca6",
   "metadata": {},
   "outputs": [
    {
     "name": "stdout",
     "output_type": "stream",
     "text": [
      "0     df_nd_system = df_nodes[df_nodes[\"labels(n)\"]=...\n",
      "1     df_nd_datafeed = df_nodes[df_nodes[\"labels(n)\"...\n",
      "2     df_nd_systemdataconcept = df_nodes[df_nodes[\"l...\n",
      "3     df_nd_systemdataelement = df_nodes[df_nodes[\"l...\n",
      "4     df_nd_businessdataelement = df_nodes[df_nodes[...\n",
      "5     df_nd_boundaryvalue = df_nodes[df_nodes[\"label...\n",
      "6     df_nd_boundaryset = df_nodes[df_nodes[\"labels(...\n",
      "7     df_nd_businessdataconcept = df_nodes[df_nodes[...\n",
      "8     df_nd_boundarydimension = df_nodes[df_nodes[\"l...\n",
      "9     df_nd_orgunit = df_nodes[df_nodes[\"labels(n)\"]...\n",
      "10    df_nd_materialtransformation = df_nodes[df_nod...\n",
      "11    df_nd_businessdatadomain = df_nodes[df_nodes[\"...\n",
      "12    df_nd_report = df_nodes[df_nodes[\"labels(n)\"]=...\n",
      "13    df_nd_regulator = df_nodes[df_nodes[\"labels(n)...\n",
      "Name: code, dtype: object\n"
     ]
    }
   ],
   "source": [
    "# df = ([list(df_nodes['labels(n)'].unique()),list(df_nodes['labels(n)'].unique())])\n",
    "df_nodes_code = pd.DataFrame([list(df_nodes['labels(n)'].unique()), ['df_nd_' + re.sub('[^0-9a-zA-Z]+', '', name).lower() for name in list(df_nodes['labels(n)'].unique())]]).T\n",
    "df_nodes_code.columns=['label', 'df_name']\n",
    "df_nodes_code['code'] = df_nodes_code['df_name'] + ' = df_nodes[df_nodes[\"labels(n)\"]==\"' + df_nodes_code['label'] + '\"].reset_index(drop=True)'\n",
    "print(df_nodes_code['code'])"
   ]
  },
  {
   "cell_type": "markdown",
   "id": "a88b8d1f",
   "metadata": {},
   "source": [
    "Create subset for label types"
   ]
  },
  {
   "cell_type": "code",
   "execution_count": 10,
   "id": "98b3fe4f",
   "metadata": {},
   "outputs": [],
   "source": [
    "df_nd_system = df_nodes[df_nodes['labels(n)']=='[System]'].reset_index(drop=True)\n",
    "df_nd_datafeed = df_nodes[df_nodes['labels(n)']=='[Data Feed]']\n",
    "df_nd_systemdataconcept = df_nodes[df_nodes['labels(n)']=='[System Data Concept]']\n",
    "df_nd_systemdataelement = df_nodes[df_nodes['labels(n)']=='[System Data Element]']\n",
    "df_nd_businessdataelement = df_nodes[df_nodes['labels(n)']=='[Business Data Element]']\n",
    "df_nd_boundaryvalue = df_nodes[df_nodes['labels(n)']=='[Boundary Value]']\n",
    "df_nd_boundaryset = df_nodes[df_nodes['labels(n)']=='[Boundary Set]']\n",
    "df_nd_businessdataconcept = df_nodes[df_nodes['labels(n)']=='[Business Data Concept]']\n",
    "df_nd_boundarydimension = df_nodes[df_nodes['labels(n)']=='[Boundary Dimension]']\n",
    "df_nd_orgunit = df_nodes[df_nodes['labels(n)']=='[Org Unit]']\n",
    "df_nd_materialtransformation = df_nodes[df_nodes['labels(n)']=='[Material Transformation]']\n",
    "df_nd_businessdatadomain = df_nodes[df_nodes['labels(n)']=='[Business Data Domain]']\n",
    "df_nd_report = df_nodes[df_nodes['labels(n)']=='[Report]']\n",
    "df_nd_regulator = df_nodes[df_nodes['labels(n)']=='[Regulator]']"
   ]
  },
  {
   "cell_type": "code",
   "execution_count": null,
   "id": "a9097581",
   "metadata": {},
   "outputs": [],
   "source": []
  },
  {
   "cell_type": "markdown",
   "id": "c4164e74",
   "metadata": {},
   "source": [
    "# Edges"
   ]
  },
  {
   "cell_type": "code",
   "execution_count": null,
   "id": "bfbe205e",
   "metadata": {},
   "outputs": [],
   "source": [
    "in_edges['type(r)'].unique()"
   ]
  },
  {
   "cell_type": "code",
   "execution_count": null,
   "id": "0575f43e",
   "metadata": {},
   "outputs": [],
   "source": [
    "in_edges[in_edges['n1.Name'].str.contains('\\[')]['n1.Name'].unique()"
   ]
  },
  {
   "cell_type": "code",
   "execution_count": null,
   "id": "a610fd36",
   "metadata": {},
   "outputs": [],
   "source": [
    "graph = Graph(\"bolt://localhost:7687\", user=\"neo4j\", password=\"test\")\n",
    "tx = graph.begin()\n",
    "\n",
    "# for index, row in df_nodes.iterrows():\n",
    "#     tx.evaluate('''\n",
    "#        MERGE (a:person1 {property:$Person1})\n",
    "#        MERGE (b:person2 {property:$Person2})\n",
    "#        MERGE (a)-[r:R_TYPE]->(b)\n",
    "#        ''', parameters = {'Person1': int(row['n.Name']), 'Person2': int(row['Person2'])})\n",
    "\n",
    "for index, row in df_nodes.iterrows():\n",
    "    tx.evaluate('''\n",
    "        MERGE (a:name {label:$label, description:$description})''',\n",
    "        parameters = {'labels(n)': row['labels(n)'], 'name': row['n.Name'], 'label': row['n.Label'], 'description': row['n.Description']})\n",
    "\n",
    "tx.commit()"
   ]
  },
  {
   "cell_type": "code",
   "execution_count": null,
   "id": "af1d40ee",
   "metadata": {},
   "outputs": [],
   "source": [
    "# stmt = 'LOAD CSV WITH HEADERS FROM '+ fname_in_nodes + ' AS line \\\n",
    "#         CREATE (:Artist {name: line.Name, year: toInteger(line.Year)})'\n",
    "\n",
    "# session.run(stmt)"
   ]
  },
  {
   "cell_type": "code",
   "execution_count": null,
   "id": "2b115bf3",
   "metadata": {},
   "outputs": [],
   "source": []
  },
  {
   "cell_type": "code",
   "execution_count": null,
   "id": "05f7b5b2",
   "metadata": {},
   "outputs": [],
   "source": []
  },
  {
   "cell_type": "code",
   "execution_count": null,
   "id": "bfdd978c",
   "metadata": {},
   "outputs": [],
   "source": []
  },
  {
   "cell_type": "code",
   "execution_count": null,
   "id": "9e559c88",
   "metadata": {},
   "outputs": [],
   "source": []
  }
 ],
 "metadata": {
  "kernelspec": {
   "display_name": "Python 3 (ipykernel)",
   "language": "python",
   "name": "python3"
  },
  "language_info": {
   "codemirror_mode": {
    "name": "ipython",
    "version": 3
   },
   "file_extension": ".py",
   "mimetype": "text/x-python",
   "name": "python",
   "nbconvert_exporter": "python",
   "pygments_lexer": "ipython3",
   "version": "3.8.12"
  }
 },
 "nbformat": 4,
 "nbformat_minor": 5
}
